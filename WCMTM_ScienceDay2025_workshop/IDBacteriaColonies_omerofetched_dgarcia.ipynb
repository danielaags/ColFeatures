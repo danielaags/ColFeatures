{
  "cells": [
    {
      "cell_type": "code",
      "source": [
        "from google.colab import userdata"
      ],
      "metadata": {
        "id": "Yla2tQTlwHzj"
      },
      "execution_count": null,
      "outputs": []
    },
    {
      "cell_type": "code",
      "source": [
        "!pip install omero-py https://github.com/glencoesoftware/zeroc-ice-py-linux-x86_64/releases/download/20240202/zeroc_ice-3.6.5-cp311-cp311-manylinux_2_28_x86_64.whl"
      ],
      "metadata": {
        "collapsed": true,
        "id": "UXjlZqC22MgK"
      },
      "execution_count": null,
      "outputs": []
    },
    {
      "cell_type": "markdown",
      "metadata": {
        "id": "ALVfMpjxrjS7"
      },
      "source": [
        "# Basic segmentation of bacteria colonies\n",
        "The goal of this tutorial is the automated identification of bacterial colonies to extract key morphological data and generate labels that ensure tracking of temporal development using basic thresholding. The example data comes from pictures of petri dish plates where soil bacteria has been growing at room temperature for at least 10 days.\n",
        "\n",
        "![example](https://drive.google.com/uc?id=138xMbRQyLbxos-b9VDMuSoZHwLKujUua)\n"
      ]
    },
    {
      "cell_type": "markdown",
      "metadata": {
        "id": "Q664J90urjS9"
      },
      "source": [
        "### Calling required libraries\n",
        "\n",
        "In this notebook, we are utilizing several powerful Python libraries for data manipulation, image processing, scientific computing, and machine learning. Below is an introduction to each of these libraries and their key functionalities:\n",
        "\n",
        "1. **omero-py** is a Python client library for OMERO (Open Microscopy Environment Remote Objects), a platform for managing, visualizing, and analyzing large-scale microscopy image datasets. omero-py allows users to interact with an OMERO server programmatically, enabling image uploads, metadata management, and advanced data analysis workflows.\n",
        "2. **NumPy** is a fundamental package for scientific computing in Python. It provides support for large multi-dimensional arrays and matrices, along with a collection of mathematical functions to operate on these arrays.\n",
        "3. **Matplotlib** is a plotting library used for creating static, interactive, and animated visualizations in Python. It is particularly useful for generating plots, histograms, bar charts, and other types of visualizations.\n",
        "4. **Pandas** is a powerful data manipulation and analysis library. It provides data structures like DataFrames, which are essential for handling and analyzing structured data.\n",
        "5. **SciPy** is a library used for scientific and technical computing. It builds on NumPy and provides a large number of higher-level functions that are useful for different types of scientific and engineering applications, such as optimization, integration, interpolation, and image processing.\n",
        "6. **OpenCV (cv2)** is an open-source computer vision and image processing library. It provides a wide range of functions for image and video processing, including reading and writing images, filtering, edge detection, and object detection.\n",
        "7. **scikit-image (skimage)** is a collection of algorithms for image processing. It is built on top of NumPy and is designed to work with other scientific computing libraries. It provides functions for image filtering, morphology, segmentation, and feature extraction.\n",
        "8. **scikit-learn (sklearn)** is a machine learning library that provides simple and efficient tools for data mining and data analysis. It includes a wide range of algorithms for classification, regression, clustering, and dimensionality reduction, as well as tools for model selection and evaluation.\n",
        "\n",
        "\n",
        "These libraries together provide a comprehensive toolkit for handling and analyzing data, processing images, and applying machine learning techniques."
      ]
    },
    {
      "cell_type": "code",
      "execution_count": null,
      "metadata": {
        "kernel": "SoS",
        "id": "yDpMKFc5rjS-"
      },
      "outputs": [],
      "source": [
        "%matplotlib inline\n",
        "from omero.gateway import BlitzGateway\n",
        "import numpy as np\n",
        "import matplotlib.pyplot as plt\n",
        "import pandas as pd\n",
        "from scipy import ndimage as ndi\n",
        "\n",
        "import cv2\n",
        "\n",
        "# presprocessing\n",
        "import skimage.filters\n",
        "from skimage.exposure import rescale_intensity\n",
        "\n",
        "#morphology\n",
        "from skimage import measure\n",
        "import skimage.morphology\n",
        "from skimage.measure import label, regionprops_table\n",
        "\n",
        "# import threshold and gray convertor functions\n",
        "from skimage.color import rgb2gray, label2rgb\n",
        "\n",
        "# for watershed implementation\n",
        "from skimage.segmentation import watershed\n",
        "from skimage.feature import peak_local_max\n",
        "\n",
        "from sklearn.cluster import KMeans\n"
      ]
    },
    {
      "cell_type": "code",
      "execution_count": null,
      "metadata": {
        "kernel": "SoS",
        "id": "OszyLJ-JrjS_"
      },
      "outputs": [],
      "source": [
        "# function to show image\n",
        "def show_image(image, cmap_type='gray'):\n",
        "    plt.imshow(image, cmap=cmap_type)\n",
        "    plt.axis('off')\n",
        "    plt.show()"
      ]
    },
    {
      "cell_type": "markdown",
      "metadata": {
        "id": "en0fYK30rjS_"
      },
      "source": [
        "### 1. Fetching data from OMERO server\n",
        "First we will fetch the data from the OMERO server."
      ]
    },
    {
      "cell_type": "code",
      "source": [
        "conn = BlitzGateway('test-user', userdata.get('pass'),\n",
        "                        host='omero.scilifelab.se', secure=True)\n",
        "conn.connect()\n",
        "\n",
        "dataset_id = 301\n",
        "dataset = conn.getObject(\"Dataset\", dataset_id)\n",
        "images = []\n",
        "for image in dataset.listChildren():\n",
        "  images.append(image)\n",
        "  if len(images) == 0:\n",
        "    print(None)\n",
        "\n",
        "for image in images:\n",
        "  print(\"---- Image\", image.id)"
      ],
      "metadata": {
        "id": "GZWunjV9FoVM"
      },
      "execution_count": null,
      "outputs": []
    },
    {
      "cell_type": "code",
      "execution_count": null,
      "metadata": {
        "id": "A04eSUfLrjS_"
      },
      "outputs": [],
      "source": [
        "image_id = 351\n",
        "image_obj = conn.getObject(\"Image\", image_id)\n",
        "\n",
        "# Get the raw pixel data\n",
        "pixels = image_obj.getPrimaryPixels()\n",
        "channels = []\n",
        "for c in range(image_obj.getSizeC()):\n",
        "    plane = pixels.getPlane(0, c, 0)  # z, c, t indices\n",
        "    channels.append(plane)\n",
        "\n",
        "# stack the channels to create a color image\n",
        "image_color = np.stack(channels, axis=-1)\n",
        "# rescale the intensity of the image to the range [0, 255]\n",
        "image_color = rescale_intensity(image_color, in_range='image', out_range=(0, 255)).astype(np.uint8)\n",
        "\n",
        "# get grayscale image\n",
        "image_gray = pixels.getPlane(0, 0, 0)  # z, c, t indices\n",
        "\n",
        "# Display the color image using matplotlib\n",
        "show_image(image_color)\n",
        "\n",
        "conn.close()"
      ]
    },
    {
      "cell_type": "markdown",
      "metadata": {
        "id": "eeonbOaurjTA"
      },
      "source": [
        "Next, we convert the RGB image to grayscale and adjust the intensity by removing the percentile 10th and 90th (extreme values) from the range."
      ]
    },
    {
      "cell_type": "code",
      "execution_count": null,
      "metadata": {
        "id": "H5BpYJHrrjTA"
      },
      "outputs": [],
      "source": [
        "p10, p90 = np.percentile(image_gray, (10,90))\n",
        "image_rescaled = rescale_intensity(image_gray, in_range=(p10, p90))\n",
        "# rescale the intensity of the image to the range [0, 1]\n",
        "image_rescaled = image_rescaled / 65535.0\n",
        "show_image(image_rescaled)"
      ]
    },
    {
      "cell_type": "markdown",
      "metadata": {
        "kernel": "SoS",
        "id": "rwVqOy1ZrjTA"
      },
      "source": [
        "#### 2. Mask and segmentation\n",
        "We are going to create a mask to remove the area outside of the plate. We define a center coordinates and radius and apply it to the grayscale image."
      ]
    },
    {
      "cell_type": "code",
      "execution_count": null,
      "metadata": {
        "kernel": "SoS",
        "id": "P2mo9rWWrjTA"
      },
      "outputs": [],
      "source": [
        "imageSize = image_rescaled.shape\n",
        "ci = [1030, 1050, 840]\n",
        "# generate grid same size as the original image\n",
        "x = np.arange(0,imageSize[0])-ci[0]\n",
        "y = np.arange(0,imageSize[1])-ci[1]\n",
        "xx, yy = np.meshgrid(x, y)\n",
        "# generate mask\n",
        "mask = (xx**2 + yy**2) < ci[2]**2\n",
        "# turn mask into integer\n",
        "mask = mask.astype(int)\n",
        "rgbI_mask=mask*image_rescaled\n",
        "show_image(rgbI_mask)"
      ]
    },
    {
      "cell_type": "markdown",
      "metadata": {
        "id": "TCC9yEV8rjTB"
      },
      "source": [
        "To be able to segment our bacterial colonies, we plot the intensity values. We will use to different thresholds to be able to segment bacteria colonies with a bright color and bacteria colonies with a dark color."
      ]
    },
    {
      "cell_type": "code",
      "execution_count": null,
      "metadata": {
        "id": "Vx-sfQnBrjTB"
      },
      "outputs": [],
      "source": [
        "plt.figure(figsize=(10, 5))\n",
        "plt.hist(rgbI_mask.ravel(), bins=100, color='black', alpha=0.7)\n",
        "plt.xlabel('Intensity Value')\n",
        "plt.ylabel('Frequency')\n",
        "plt.title('Histogram of image intensities in grayscale')\n",
        "plt.show()"
      ]
    },
    {
      "cell_type": "markdown",
      "metadata": {
        "id": "9Ujb5SQbrjTB"
      },
      "source": [
        "From the mask grayscale image, we identified the bright colonies by applying a thresholding at the arbitrary value of > than 0.8 and performing an area closing operation to fill small holes within the colonies."
      ]
    },
    {
      "cell_type": "code",
      "execution_count": null,
      "metadata": {
        "id": "apmdfAuUrjTB"
      },
      "outputs": [],
      "source": [
        "image_threshold_bright = rgbI_mask >= 0.80\n",
        "image_area_closing = skimage.morphology.area_closing(image_threshold_bright, area_threshold=100)\n",
        "binary_image_bright = image_area_closing\n",
        "show_image(binary_image_bright)"
      ]
    },
    {
      "cell_type": "markdown",
      "metadata": {
        "id": "ITlIiZLSrjTB"
      },
      "source": [
        "Next, we identified the dark colonies by applying a thresholding at between the values 0.1 and 0.25. We again do an area closing operation to fill small holes within the colonies."
      ]
    },
    {
      "cell_type": "code",
      "execution_count": null,
      "metadata": {
        "id": "kQdCZQWxrjTB"
      },
      "outputs": [],
      "source": [
        "image_threshold_dark = (rgbI_mask > 0) & (rgbI_mask < 0.25)\n",
        "image_area_closing = skimage.morphology.area_closing(image_threshold_dark, area_threshold=100)\n",
        "binary_image_dark = image_area_closing\n",
        "show_image(binary_image_dark)"
      ]
    },
    {
      "cell_type": "markdown",
      "metadata": {
        "id": "N_PutxeOrjTB"
      },
      "source": [
        "We combine both thresholding outputs to collect bright and dark colonies in a single binary image."
      ]
    },
    {
      "cell_type": "code",
      "execution_count": null,
      "metadata": {
        "id": "BOto0ArdrjTB"
      },
      "outputs": [],
      "source": [
        "binary_image = (binary_image_bright + binary_image_dark) * mask\n",
        "show_image(binary_image)"
      ]
    },
    {
      "cell_type": "markdown",
      "metadata": {
        "id": "SPezZeFTrjTB"
      },
      "source": [
        "#### 3. Extract information from regions\n",
        "To extract the information from each segmented object we use the label() function and the we analyse the properties in the labelled regions. The function labels connected components in the binary image, assigning a unique label to each connected region. The resulting image_labeled is an image where each pixel value correspondos to the label of the region it belongs."
      ]
    },
    {
      "cell_type": "code",
      "execution_count": null,
      "metadata": {
        "id": "3Zxy-9-nrjTB"
      },
      "outputs": [],
      "source": [
        "# label image for mapping\n",
        "image_labeled = label(binary_image)\n",
        "# analyze regions\n",
        "regions = regionprops_table(image_labeled, intensity_image=image_rescaled, properties = ('label','centroid', 'area', 'perimeter',\n",
        "'equivalent_diameter', 'eccentricity', 'convex_area', 'mean_intensity'))\n",
        "\n",
        "# turn into data frame for easy access\n",
        "df = pd.DataFrame(regions)\n",
        "df.shape"
      ]
    },
    {
      "cell_type": "markdown",
      "metadata": {
        "id": "wErN02dVrjTB"
      },
      "source": [
        "We implement a processing and filtering step to remove segmented objects that might not be bacteria colonies. We do a two step processing. The first step filters the regions based on their size and shape, selecting an area in between 60 - 500000 and an eccentricity (how rounded is an object) less than 0.8. T\n",
        "The second filtering step involves removing colonies that are near or outside the border of the plate. This is done by fitting a circle to each region and checking if the circle lies within specified boundaries (200 to 1845 in both x and y directions). The code iterates through each region, calculates the circle's coordinates, and checks if all points of the circle are within the boundaries. If a region passes this check, its index is added to the `idx` list, and a unique label is assigned and stored in `label_ID`. Next, the code generates unique labels for each filtered region by combining a base name with the region's unique label. These labels are stored in the `name_label` list."
      ]
    },
    {
      "cell_type": "code",
      "execution_count": null,
      "metadata": {
        "id": "8a0tJX-zrjTB"
      },
      "outputs": [],
      "source": [
        "# Filter in two steps\n",
        "# filter first by size and sape\n",
        "data_region = df.loc[(df['area']>60) & (df['area']<500000) & (df['eccentricity'] < 0.8)]\n",
        "# filter second position on the plate\n",
        "# calculate indexes to plot a circle and compare with the indexes in mask to remove colonies near or outside the border.\n",
        "idx = []\n",
        "label_ID = []\n",
        "j = 1\n",
        "th = np.arange(0,2*np.pi,np.pi/5)\n",
        "for i in range(data_region.shape[0]):\n",
        "    # fit a circle\n",
        "    xunit = data_region.iloc[i][5]/2 * np.cos(th) + data_region.iloc[i][1]\n",
        "    yunit = data_region.iloc[i][5]/2 * np.sin(th) + data_region.iloc[i][2]\n",
        "    # find within the boundaries. Check ci variable\n",
        "    y1 = np.array(yunit>200)\n",
        "    y2 = np.array(yunit<1845)\n",
        "    x1 = np.array(xunit>200)\n",
        "    x2 = np.array(xunit<1845)\n",
        "    xy = y1 & y2 & x1 & x2\n",
        "    mean_xy = np.mean(np.multiply(xy, 1))\n",
        "    if mean_xy == 1:\n",
        "        idx.append(i)\n",
        "        label_ID.append(j)\n",
        "        j = j + 1\n",
        "# filtered data frame\n",
        "data_regions_filtered = data_region.iloc[idx]\n",
        "data_regions_filtered.reset_index(drop=True, inplace=True)\n",
        "data = data_regions_filtered[data_regions_filtered.columns[1:]]\n",
        "name_label = []\n",
        "for i in range(data.shape[0]):\n",
        "    label_str = str(label_ID[i])\n",
        "    name_label.append(str(image_id)+'_'+label_str)\n",
        "\n",
        "temp_df = {'unique_label':name_label, 'label':label_ID}\n",
        "name_df = pd.DataFrame(data=temp_df)\n",
        "data_label = pd.concat([name_df, data], axis=1)"
      ]
    },
    {
      "cell_type": "code",
      "source": [
        "data_label.shape"
      ],
      "metadata": {
        "id": "F_AKJGVz5lAd"
      },
      "execution_count": null,
      "outputs": []
    },
    {
      "cell_type": "code",
      "source": [
        "data_label.head()"
      ],
      "metadata": {
        "id": "vhmv7nG55wG8"
      },
      "execution_count": null,
      "outputs": []
    },
    {
      "cell_type": "markdown",
      "metadata": {
        "id": "xs2IOF9wrjTC"
      },
      "source": [
        "#### 4. Map the colonies in plate\n",
        "We finalised the colonia identification by viualising labeled regions on the original image by drawing circles and labels, and then resizing the image for display."
      ]
    },
    {
      "cell_type": "code",
      "execution_count": null,
      "metadata": {
        "id": "jRsSZKUNrjTC"
      },
      "outputs": [],
      "source": [
        "# make a copy of the original image\n",
        "img = image_color.copy()\n",
        "for i in range(data_label.shape[0]) :\n",
        "    # draw circle\n",
        "    cv2.circle(img,(round(data_label['centroid-1'][i]), round(data_label['centroid-0'][i])), round(data_label['equivalent_diameter'][i]/2), (0,255,0), 3)\n",
        "    # draw text, label\n",
        "    cv2.putText(img, str(data_label['label'][i]), (round(data_label['centroid-1'][i]+30), round(data_label['centroid-0'][i]+10)), cv2.FONT_HERSHEY_SIMPLEX, 1.0, (1, 1, 1), 4)\n",
        "\n",
        "# new width and height to resize the image\n",
        "scale = 50\n",
        "width = int(img.shape[1] * scale/100)\n",
        "height = int(img.shape[0] * scale/100)\n",
        "\n",
        "# resizing the image\n",
        "resized_img = cv2.resize(img, (width, height), interpolation=cv2.INTER_AREA)\n",
        "\n",
        "show_image(resized_img)\n"
      ]
    },
    {
      "cell_type": "markdown",
      "source": [
        "## Take home message\n",
        "- Easy access to data using OMERO\n",
        "- Thresholding segmentation can be use as an exploratory step for image segmentation"
      ],
      "metadata": {
        "id": "Q4xeDugl8glU"
      }
    },
    {
      "cell_type": "markdown",
      "metadata": {
        "kernel": "SoS",
        "id": "SMezFeUkrjTC"
      },
      "source": [
        "#### Extra: Testing watershed\n",
        "The watershed algorithm is a popular image segmentation technique used to separate different objects in an image it treats the imake like a topographic map with valleys and peaks. First a distance transform is applied to the binary image, calculating the distance from each pixel ro the nearest background pixel (0), creating a distance map where the peaks are the centers of the objects which are set as markers. Then, the watershed algorith segments the image."
      ]
    },
    {
      "cell_type": "code",
      "execution_count": null,
      "metadata": {
        "kernel": "SoS",
        "id": "NK5VKfJPrjTC"
      },
      "outputs": [],
      "source": [
        "# compute the Euclidean distance transform\n",
        "distance = ndi.distance_transform_edt(binary_image)\n",
        "# identify the local maxima, finding peaks in the Euclidean distance map that are separated by at least 50 pixels, and assigns them a label.\n",
        "local_max_coords = peak_local_max(distance, min_distance=50, num_peaks_per_label=1)\n",
        "# create a mask of the local maxima.\n",
        "local_max_mask = np.zeros(distance.shape, dtype=bool)\n",
        "local_max_mask[tuple(local_max_coords.T)] = True\n",
        "# label the local maxima.\n",
        "markers = measure.label(local_max_mask)\n",
        "segmented_bact = watershed(-distance, markers, mask=binary_image, watershed_line=True)\n",
        "# convert the segmented image to a binary image.\n",
        "segmented_bact_BW = np.array((segmented_bact > 1)*1)\n",
        "\n",
        "# show the segmentations.\n",
        "fig, axes = plt.subplots(nrows=1, ncols=2, figsize=(9, 5),\n",
        "                         sharex=True, sharey=True)\n",
        "\n",
        "color1 = label2rgb(segmented_bact, image=binary_image, bg_label=0)\n",
        "axes[0].imshow(color1)\n",
        "axes[0].set_title('Sobel+Watershed')\n",
        "\n",
        "axes[1].imshow(segmented_bact_BW)\n",
        "axes[1].set_title('BW')"
      ]
    },
    {
      "cell_type": "markdown",
      "metadata": {
        "id": "E62DqAxorjTC"
      },
      "source": [
        "#### Extra: Do clustering\n",
        "An example of how we can work with the data is to perform some clustering on the label regions which could give us information about similar bacteria colonies. Here we use the different features extracted and predified a expected number of clusters, later on we can map the clusters back to the original image for easy visualization."
      ]
    },
    {
      "cell_type": "code",
      "execution_count": null,
      "metadata": {
        "id": "AWihE5-4rjTC"
      },
      "outputs": [],
      "source": [
        "# do clustering based on data\n",
        "features = ['equivalent_diameter', 'eccentricity', 'convex_area',\n",
        "'mean_intensity']\n",
        "# data just with features\n",
        "data = data_label.loc[:,features]\n",
        "\n",
        "# clusters\n",
        "n=2\n",
        "clusters = KMeans(n_clusters=n, random_state=10).fit(data)\n",
        "d = {'cluster_n':clusters.labels_}\n",
        "clusters_n = pd.DataFrame(data=d)\n",
        "\n",
        "# add cluster labels\n",
        "df_cluster = data_label.join(clusters_n)\n",
        "df_cluster"
      ]
    },
    {
      "cell_type": "code",
      "execution_count": null,
      "metadata": {
        "id": "DiQj_lUvrjTC"
      },
      "outputs": [],
      "source": [
        "# make a copy of the image\n",
        "img = image_color.copy()\n",
        "for i in range(data_label.shape[0]):\n",
        "    # draw circle\n",
        "    cv2.circle(img,(round(df_cluster['centroid-1'][i]), round(df_cluster['centroid-0'][i])), round(df_cluster['equivalent_diameter'][i]/2), (0,255,0), 3)\n",
        "    # draw text, label\n",
        "    cv2.putText(img, str(df_cluster['cluster_n'][i]), (round(df_cluster['centroid-1'][i])+30, round(df_cluster['centroid-0'][i])+10), cv2.FONT_HERSHEY_SIMPLEX, 1.0, (1, 1, 1), 4)\n",
        "\n",
        "# new width and height to resize the image\n",
        "scale = 50\n",
        "width = int(img.shape[1] * scale/100)\n",
        "height = int(img.shape[0] * scale/100)\n",
        "\n",
        "# resizing the image\n",
        "resized_img = cv2.resize(img, (width, height), interpolation=cv2.INTER_AREA)\n",
        "show_image(resized_img)"
      ]
    }
  ],
  "metadata": {
    "kernelspec": {
      "display_name": "Python 3",
      "name": "python3"
    },
    "sos": {
      "kernels": [],
      "panel": {
        "displayed": true,
        "height": 0
      },
      "version": "0.22.3"
    },
    "toc": {
      "base_numbering": 1,
      "nav_menu": {},
      "number_sections": true,
      "sideBar": true,
      "skip_h1_title": false,
      "title_cell": "Table of Contents",
      "title_sidebar": "Contents",
      "toc_cell": false,
      "toc_position": {},
      "toc_section_display": true,
      "toc_window_display": false
    },
    "colab": {
      "provenance": []
    },
    "language_info": {
      "name": "python"
    }
  },
  "nbformat": 4,
  "nbformat_minor": 0
}